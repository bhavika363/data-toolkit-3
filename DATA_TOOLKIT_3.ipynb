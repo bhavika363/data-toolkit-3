{
  "nbformat": 4,
  "nbformat_minor": 0,
  "metadata": {
    "colab": {
      "provenance": [],
      "toc_visible": true
    },
    "kernelspec": {
      "name": "python3",
      "display_name": "Python 3"
    },
    "language_info": {
      "name": "python"
    }
  },
  "cells": [
    {
      "cell_type": "markdown",
      "source": [
        "#DATA TOOLKIT\n",
        "\n",
        "#theoritical\n",
        "\n"
      ],
      "metadata": {
        "id": "KHi5JWvCOIAe"
      }
    },
    {
      "cell_type": "markdown",
      "source": [
        "Q-1 WHAT IS NUMPY AND WHY IT IS WIDELY USED IN PYTHON?\n",
        "\n",
        "A-1 Numpy is a fundamental library in python for scientific computing.it offers powerful features for working with multidimensional arrays and performing various mathematical operations efficiently.\n",
        "     \n",
        "    ADVANTAGE:\n",
        "     \n",
        " Numpy is deal for handling large amounts of homogeneous data, offering significant improvements in speed and memory efficiency . it also provides high level syntax for a wide range of numerical operations , making it powerful tool for scientific computing and data processing on CPU.\n",
        "\n",
        "     \n",
        "     NUMPY IS WIDELY USED:\n",
        "\n",
        "    1. EFFICIENCY: numpy array-based approach and vectorized operations make it much faster than working with python lists.\n",
        "\n",
        "    2. CONVENIENCE: numpy provides a simple and intutive API for working with arrays and mathematical operations.\n",
        "\n",
        "    3. INTEROPERABILITY: numpy integrates well with other popular python libraries for data analysis, machine learning and scientific computation."
      ],
      "metadata": {
        "id": "0BCOt8cxOGvu"
      }
    },
    {
      "cell_type": "markdown",
      "source": [
        "Q-2 HOW DOES BROADCASTING WORK IN NUMPY?\n",
        "\n",
        "A-2 Broadcasting is a way to allign array with different shapes so that they can be operated on element-wise. its like stretching or repeating the arrays to match each other's shape.\n",
        "\n",
        "WORKING:\n",
        "\n",
        "1. COMPARE SHAPES: Numpy compared the shapes of the two arrays from right to left.\n",
        "\n",
        "2. match or stretch: if the shapes match in a particular axis, numpy performs the operation element wise. if the shapes don't match , numpy tries to stretch the array with the smaller shape to match the larger shape.\n",
        "\n",
        "3. singleton dimensions: If one array has singleton  dimensions , numpy can stretch it to match the corresponding dimension of the other array.\n",
        "\n",
        "4. add singleton dimensions: if one array has fewer dimensions that the other , numpy adds singleton dimensions to the left of the array with the fewer dimensions."
      ],
      "metadata": {
        "id": "zO6nVg_yOsHX"
      }
    },
    {
      "cell_type": "markdown",
      "source": [
        "Q-3 WHAT IS A PANDAS DATAFRAME?\n",
        "\n",
        "A-3 Pandas dataframe is a two-dimensional,size-mutable and potentially heterogeneous tabular data structure in python. it is similar to an Excel spreadsheet or a table in relational database."
      ],
      "metadata": {
        "id": "AnwXBEvvOxhg"
      }
    },
    {
      "cell_type": "markdown",
      "source": [
        "Q-4 EXPLAIN THE USE OF THE groupby() METHOD IN PANDAS?\n",
        "\n",
        "A-4 the groupby() method in pandas is used to group a dataframe by one or more columns and perform aggregation operations on the grouped data.\n",
        "\n",
        "1. Aggregates data and reshapes it.\n",
        "\n",
        "2. splits the data into group based on some criteria\n",
        "\n",
        "3. applies a function to each group independently\n",
        "\n",
        "4. combines the results."
      ],
      "metadata": {
        "id": "AJafXflwO2PR"
      }
    },
    {
      "cell_type": "markdown",
      "source": [
        "Q-5 WHY IS SEABORN PREFFERED FOR STATISTICAL VISUALIZATTIONS?\n",
        "\n",
        "A-5 some reasons why seaborn is preffered:\n",
        "\n",
        "1. high level interface: it provides a high level interface for creating informative and attractive statistical graphics. it abstracts away many of the low-level details , making it easier to create complex visualisation\n",
        "\n",
        "2. integration with matplotlib: seaborn is built on top of matplotlib, which means that you can leverage the strength of both libraries .\n",
        "\n",
        "3. attractive visualisations: seaborn's default styleas and color palattes are designed to produce visually appealing graphics.\n",
        "\n",
        "4. statistical graphics: it provides a range of statistical graphics , including boxplots, violin plots, and regrssion plots which  are essential for exploratory data analysis and statistical modelling.\n",
        "\n",
        "5. easy to use: it is designed to be intutive and easy to use, making it accessible to users with varying levels of experience in data visualizations.\n",
        "\n"
      ],
      "metadata": {
        "id": "6ywSsLroPFN9"
      }
    },
    {
      "cell_type": "markdown",
      "source": [
        "Q-6 WHAT ARE THE DIFFERENCES BETWEEN NUMPY ARRAYS AND PYTHON LISTS?\n",
        "\n",
        "A-6 Numpy arrays and python lists are both data structures used to store and manuplate data in python.\n",
        "\n",
        " 1. HOMOGENEOUS VS HETROGENEOUS:\n",
        "\n",
        " NUMPY ARRAY: homogeneous, meaning all the elements of the same type.\n",
        "\n",
        " PYTHON LISTS: heterogeneous, meaning elements can be of different types.\n",
        "\n",
        " 2. MEMORY AND PERFORMANCE:\n",
        "\n",
        " NUMPY ARRAY: more memory, efficient and faster for numerical computation due to their homogeneous nature and contigous memory allocation.\n",
        "\n",
        " PYTHON LISTS: less memory effecient and slower for numerical computation due to their heterogeneous nature and dynamic memory allocation.\n",
        "\n",
        " 3. OPERATIONS AND METHODS:\n",
        "\n",
        " NUMPY ARRAYS: support vectorized operations.\n",
        "\n",
        " PYTHON LISTS: support various methods like aooend, insert and remove\n",
        "\n",
        " 4. DIMENSIONALITY:\n",
        "\n",
        " NUMPY ARRAY: can be multi-dimensional making then suitable for representing matrices and tensors\n",
        "\n",
        " PYTHON LISTS:  can also be nested to represent multi-dimensional data but this can be less efficient and more cumbersome than using numpy arrays.\n",
        "\n",
        "\n"
      ],
      "metadata": {
        "id": "IEcMaSMMPQbc"
      }
    },
    {
      "cell_type": "markdown",
      "source": [
        "Q-7 WHAT IS HEATMAP , AND WHEN SHOULD IT BE USED?\n",
        "\n",
        "A-7 A heatmap is a graphical representation of data where values are depicted by color . it is a 2D representation of data that uses color to convey the magnitude of the values.\n",
        "\n",
        "WHEN TO USE HEATMAP:\n",
        "\n",
        "1. VISUALIZING CORRELATIONS: It ia used for visualiuzing correlation matrices ,where the color represents the strength and direction of the correlation between variables.\n",
        "\n",
        "2. SHOWING PATTERNS AND TRENDS: It can help identify patterns and trends in data such as clusters, outliers, or relationships between variables.\n",
        "\n",
        "3. DISPLAYING DENSITY OR FREQUENCY: IT is used to display density or frequency of data points in data space.\n",
        "\n",
        "4. COMPARING CATEGORICAL DATA: it can be used to compare categorical data across different groups or categories."
      ],
      "metadata": {
        "id": "fd7RHbtUPYyz"
      }
    },
    {
      "cell_type": "markdown",
      "source": [
        "Q-8 WHAT DOES THE TERM \"vectorized operation\" MEANS IN NUMPY?\n",
        "\n",
        "A-8 In numpy, vectorized operations refer to the ability to perform operations on entire array at once, without the need for explicit loops. this is achieved by applying opearations element wise to the arrays, which makes it much faster and more efficient than using python loops."
      ],
      "metadata": {
        "id": "jaQ298DLPgR-"
      }
    },
    {
      "cell_type": "markdown",
      "source": [
        "Q-9 HOW DOES matplotib DIFFER FROM plotly?\n",
        "\n",
        "A-9 MATPLOTLIB:\n",
        "\n",
        "1. STATIC VISUALIZATION: Matplotib is primarily used for creating static visualizations such as plots,charts,graphs.\n",
        "\n",
        "2. LOW LEVEL CONTROL: IT provides  a high degree of control over the visualization , allowing users to customize every aspects of the plot.\n",
        "\n",
        "3. 2D AND 3D PLOTTING: It supports both type of plotting making it a versatile library\n",
        "\n",
        "4. MATURITY AND COMMUNITY: It is a mature library with a large and active community.\n",
        "\n",
        "PLOTLY:\n",
        "\n",
        "1. INTERACTIVE VISUALIZATION: plotly is designed to create interactive visualisations, allowing users to hover over data points, zoom in and out and pan across the plot\n",
        "\n",
        "2. WEB BASED VISUALIZATIONS: Plotly visualizations can be easily shared and embeded in web applications, making it a great choice for data exploration and presentation\n",
        "\n",
        "3. 3D PLOTTING: It supports 3D plotting and provide a large range of tools\n",
        "\n",
        "4. INTEGRATION WITH OTHER LIBRARIES:  it integrates well with other popular data science libraries , such as pandas and Scikit learn"
      ],
      "metadata": {
        "id": "F6aUMlBePqO5"
      }
    },
    {
      "cell_type": "markdown",
      "source": [
        "Q-10 WHAT IS THE SIGNIFICANCE OF HIERARCHIAL INDEXING IN PANDAS?\n",
        "\n",
        "A-10 It is a powerful feature in pandas that allows you to have multiple levels of indexing on a single axis. This enables you to store anad manipulate data with complex structures, such as data with complex structures, such as data with multiple categories or dimensions.\n",
        "\n",
        "SIGNIFICANCE:\n",
        "\n",
        "1. DATA ORGANIZATION: It allows you to organize data in a more structured and meaningful way making it easier to access\n",
        "\n",
        "2. DATA ANALYSIS: You can perform data analysis and aggregation opeartion on specific levels of the index which can be useful for data exploration and insight generation\n",
        "\n",
        "3. DATA SELECTION: It enables you to select data based onspecific conditions or criteria which can be useful for data filtering and subsetting\n",
        "\n",
        "4. DATA RESHAPING: It helps in reshaping data from wide format to long format or vice versa , which can be useful for data transformation and preperation."
      ],
      "metadata": {
        "id": "2cktJjfPP1l9"
      }
    },
    {
      "cell_type": "markdown",
      "source": [
        "Q-11 WHAT IS THE ROLE OF SEABORN'S PAIRPLOT() FUNCTIONS?\n",
        "\n",
        "A-11 Seaborn's pairplot() function ia a powerful visualizations tool that creates a matrix of pairwise scatter plots and histograms to display the relationships btween multiple variable in dataset.\n",
        "\n",
        "role of pairplot()\n",
        "\n",
        "1. VISUALIZING RELATIONSHIPS\n",
        "\n",
        "2. PAIRWISE COMPARISOIONS\n",
        "\n",
        "3. HISTOGRAMS AND DENSITY\n",
        "\n",
        "4. CATEGORICAL VARIABLES"
      ],
      "metadata": {
        "id": "2wzl0m0aP_9G"
      }
    },
    {
      "cell_type": "markdown",
      "source": [
        "Q-12 WHAT IS THE PURPOSE OF THE DESCRIBE() FUNCTION IN PANDAS?\n",
        "\n",
        "A-12 The  describe() function in pandas is used to generate a summary of the central tendency, dispersion and sgape of a dataset's distribution.\n",
        "\n",
        "PURPOSE:\n",
        "\n",
        "1. summary statistics\n",
        "\n",
        "2. data exploration\n",
        "\n",
        "3. data quality check"
      ],
      "metadata": {
        "id": "0maFkr2rQJqH"
      }
    },
    {
      "cell_type": "markdown",
      "source": [
        "Q-13 WHY IS HANDLING MISSING DATA IMPORTANT IN PANDAS?\n",
        "\n",
        "A-13  Handling  missing data is an essential step in data processing in pamdas, missing data is represented as NaN( Not a Number) or None. It is important because it directly impacts the accuracy and reliability of data analysis. It helps in preserving data integrity."
      ],
      "metadata": {
        "id": "0tiowMVQQUR_"
      }
    },
    {
      "cell_type": "markdown",
      "source": [
        "Q-14 WHAT ARE THE BENEFITS OF USING PLOTLY OF DATA VISUALIZATION?\n",
        "\n",
        "A-14 BENEFITS:\n",
        "\n",
        "1. INTERACTIVITY: it helps user to create interactive visualisation that hepls to analyse data in more engaging way\n",
        "\n",
        "2. DYNAMIC VISUALIZATIONS: It can be dynamic, allowing users to hover over data points, zoom in and out and pan across the plot.\n",
        "\n",
        "3. WEB BASED VISUALIZATIONS: it can be easily shared and embeded in web applications making it a great choice for data presentation and exploration.\n",
        "\n",
        "4. 3D PLOTTING: It supports 3D plotting , enabling users to create complex and interactive 3D visualizations\n",
        "\n",
        "5. CUSTOMIZATION: it offers a range of customization options, allowing users to tailor their visualizations to their specific needs\n",
        "\n",
        "6. INTEGRATION WITH OTHERS: It integrates well with others popular data\n",
        "\n",
        "7. LARGE COMMUNITY: It has a large and active community which means there are many resources available for learning."
      ],
      "metadata": {
        "id": "gAHeZ-jpQcDX"
      }
    },
    {
      "cell_type": "markdown",
      "source": [
        "Q-15 HOW DOES NUMPY HANDLE MULTIDIMENSIONAL ARRAYS?\n",
        "\n",
        "A-15 Numpy is a powerful library for numerical computing in python and it provides an efficient way to handle multidimensional array:\n",
        "\n",
        "1. N- DIMENSIONAL ARRAY: numpy supports array with any number of dimension allowing you to represent complex data structures.\n",
        "\n",
        "2. ARRAY INDEXING: it provides a flexible indexing system , enabling you to access amnd manipulate specific elements or subsets of elements in multidimensional arrays\n",
        "\n",
        "3. ARRAY SLICING: Slicing feature allows you to extract subsets of elements\n",
        "\n",
        "4. ARRAY RESHAPING: IT  reshapes functions enables you to change the shape of multidimensional array without modifying its data\n",
        "\n",
        "5. ARRAY BROADCASTING: This feature allows you to perform operations on array with different size and shapes"
      ],
      "metadata": {
        "id": "DiGzYRrpQjRw"
      }
    },
    {
      "cell_type": "markdown",
      "source": [
        "Q-16 WHAT IS THE ROLE OF BOKEH IN DATA VISUALIZATION?\n",
        "\n",
        "A-16 Bokeh is a poweful data visualisation library with python that provides a high level interface for creating interactive plots , dashboards and data applications.\n",
        "\n"
      ],
      "metadata": {
        "id": "AomPIjRRQrIQ"
      }
    },
    {
      "cell_type": "markdown",
      "source": [
        "Q-17 EXPALIN THE DIFFERENCE BETWEEN apply() AND map() IN PANDAS?\n",
        "\n",
        "A-17 APPLY()\n",
        "\n",
        "1. FUNCTION APPLICATION: applies a function to each row and column of a dataframe\n",
        "\n",
        "2. FLEXIBLE FUNCTIONS: the function can be any valid function including lambda, custom or built-in function\n",
        "\n",
        "3. ROW OR COLUMN WISE: can opearte on rows or columns depending on axis parameter\n",
        "\n",
        "MAP()\n",
        "\n",
        "1. ELEMENT WISE OPERATION: applies a function element wise to a series replacing each element with the result of the function\n",
        "\n",
        "2. DICTIONARY OR FUNCTION: can take a dictionary or function as a input\n",
        "\n",
        "3. SERIES ONLY: it is primarly used with series not DataFrames"
      ],
      "metadata": {
        "id": "nbX1AN8wQxTd"
      }
    },
    {
      "cell_type": "markdown",
      "source": [
        "Q-18 WHAT ARE SOME ADVANDCED FEATURES IN NUMPY?\n",
        "\n",
        "A-18\n",
        "1. BROADCASTING: This feature allows you to perform operations on array with different shapes and size.\n",
        "\n",
        "2. VECTORIZED OPERATION: It enable you to perform opeartion on entire array AT ONCE, REDUCING NEEDS FOR LOOPS\n",
        "\n",
        "3. LINEAR ALGEBRA OPERATIONS: it provides an extensive range of linear algebra operations including matrix multiplication etc\n",
        "\n",
        "4. ARRAY INDEXING AND SLICING: this feature enables you to access and manipulate specific elements or subsets of elements in arrays\n",
        "\n",
        "5. ARRAY RESHAPING AND TRANSPOSITION: This feature enables you to change the shape and layout of arrays\n",
        "\n",
        "6. UNIVERSAL FUNCTIONS: This function operates element wise on array providing away to perform compex operations\n",
        "\n",
        "7. RANDOM NUMBER GENERATION: it offers a variety  of random numberr generators including uniform, normal, binomial distributions"
      ],
      "metadata": {
        "id": "ZoOgHg7QQ8k1"
      }
    },
    {
      "cell_type": "markdown",
      "source": [
        "Q-19 HOW DOES PANDAS SIMPLIFY TIME SERIES ANALYSIS?\n",
        "\n",
        "A-19\n",
        "1. DataTimeIndex: it allows you to create a datatime- based index for your time series data\n",
        "\n",
        "2. TIME SERIES RESAMPLING: it provides you a resample function that allows you to resample your time series data to a different frequency\n",
        "\n",
        "3. TIME SERIES ROLLING AND EXPANDING WINDOWS: this allows you to perform calculations on a moving window of data\n",
        "\n",
        "4. TIME SERIES SHIFTING AND LAGGING: It provides you shift and lag functions that allows you to shift or lag your time series data\n",
        "\n",
        "5. TIME SERIES AGGREGATION: pandas provide various aggregation functions, such as mean, sum and max that allow you to aggregate your time series data."
      ],
      "metadata": {
        "id": "VofViMEDRFUZ"
      }
    },
    {
      "cell_type": "markdown",
      "source": [
        "Q-20 WHAT IS THE ROLE OF PIVOT TABLE IN PANDAS?\n",
        "\n",
        "A-20 A pivot table is a powerful data summarization tool in pandas that allow you to rotate and aggregate data from a DataFrame."
      ],
      "metadata": {
        "id": "O6ngmrE0RMav"
      }
    },
    {
      "cell_type": "markdown",
      "source": [
        "Q-21 WHY IS NUMPY ARRAY SLICING FASTER THAN PYTHON'S LIST SLICING?\n",
        "\n",
        "A-21\n",
        "1. MEMORY LAYOUT: numpy stores data in contigous block of memory which allows for effecient memory access and caching. python list stores data in non- contigous memory location leading to slower memory access\n",
        "\n",
        "2. VECTORIZED OPERATIONS: Numpy supports vectorized operations which enables operation to be performed on entire array at once . python list on other hand require loop to perform operation on each element\n",
        "\n",
        "3. NATIVE CODE: numpy is written in C which is low level compiled language making operations faster than python\n",
        "\n",
        "4. LESS OVERHEAD: numpy array have less overhead compared to python compared to python list . numpy array do not store metedata like python lists do, which reduces memory usage and improves performance."
      ],
      "metadata": {
        "id": "bKQq0VkVRWXG"
      }
    },
    {
      "cell_type": "markdown",
      "source": [
        "Q-22 WHAT ARE SOME COMMON USE CASES FOR SEABORN?\n",
        "\n",
        "A-22\n",
        "1. EXPLORATORY DATA ANALYSIS: It is useful for exploratory data analysis, allowing you to visualize and understand the distribution of variable and patterns in data\n",
        "\n",
        "2. DATA VISUALIZATION:  it provides a range of visualization tools including scatterplots, barplots, boxplots and heatmaps that can be used to communicate insight and findings to stakeholders\n",
        "\n",
        "3. STATISTICAL GRAPHICS: IT is particularly used for creating statistical graphics such as regrssion plots and Q-Q plots, that can be used to visualize and diagnose statistical model\n",
        "\n",
        "4. DATA STORYTELLING: IT can be used to create informative and engaging nisualizations that tell a story about the data , making it easier to communicate insights and findings to non- technical stakeholders\n",
        "\n",
        "5. REASERCH AND ACADEMIA: IT is widely used in research and academia for creating publication- quality visualization and for exploring and analysing complex data."
      ],
      "metadata": {
        "id": "Vo-NxE4dRg7v"
      }
    },
    {
      "cell_type": "markdown",
      "source": [
        "#practical"
      ],
      "metadata": {
        "id": "iqPG0xyG7w_R"
      }
    },
    {
      "cell_type": "markdown",
      "source": [
        "  Q-1 HOW DO YOU CREATE A 2D NUMPY ARRAY AND CALCULATE THE SUM OF EACH ROW?\n",
        "  "
      ],
      "metadata": {
        "id": "e1aWGspQ7znP"
      }
    },
    {
      "cell_type": "code",
      "source": [],
      "metadata": {
        "id": "Cl6eXAQgFhB0"
      },
      "execution_count": null,
      "outputs": []
    },
    {
      "cell_type": "code",
      "source": [
        "import numpy as np\n",
        "a = []\n",
        "for i in range(3):\n",
        "  b = []\n",
        "  for j in range(3):\n",
        "    j = int(input(\"enter number in pocket [\"+str(i)+\"][\"+str(j)+\"]\"))\n",
        "    b.append(j)\n",
        "  a.append(b)\n",
        "a=np.array(a)\n",
        "print(\"matrix is ......\")\n",
        "for i in range(3):\n",
        "  for j in range(3):\n",
        "    print(a[i] [j], end = \" \")\n",
        "  print()\n",
        "print(np.sum(a,axis=1))\n",
        "print(np.sum(a,axis=0))"
      ],
      "metadata": {
        "colab": {
          "base_uri": "https://localhost:8080/"
        },
        "id": "7RBfmjUUC3W2",
        "outputId": "2c8a863e-da08-476e-c93a-403be56dc83e"
      },
      "execution_count": null,
      "outputs": [
        {
          "output_type": "stream",
          "name": "stdout",
          "text": [
            "enter number in pocket [0][0]1\n",
            "enter number in pocket [0][1]2\n",
            "enter number in pocket [0][2]3\n",
            "enter number in pocket [1][0]4\n",
            "enter number in pocket [1][1]5\n",
            "enter number in pocket [1][2]6\n",
            "enter number in pocket [2][0]7\n",
            "enter number in pocket [2][1]8\n",
            "enter number in pocket [2][2]9\n",
            "matrix is ......\n",
            "1 2 3 \n",
            "4 5 6 \n",
            "7 8 9 \n",
            "[ 6 15 24]\n",
            "[12 15 18]\n"
          ]
        }
      ]
    },
    {
      "cell_type": "markdown",
      "source": [
        "Q-2 WRITE A PANDAS SCRIPT TO FIND THE MEAN OF A SPECIFIC COLUMN IN A DataFrame?\n"
      ],
      "metadata": {
        "id": "W4ZTxmDOALwH"
      }
    },
    {
      "cell_type": "code",
      "source": [
        "import pandas as pd\n"
      ],
      "metadata": {
        "id": "dtMpqv2PHfPX"
      },
      "execution_count": null,
      "outputs": []
    },
    {
      "cell_type": "code",
      "source": [
        "data = [['A', 2,1],['A' , 4,2],['B' , 2,3]]\n",
        "df = pd.DataFrame(data, columns = ['category', 'score' , 'priority'])\n",
        "print(df)\n",
        "results_df = df.groupby('category',as_index=False).mean()\n",
        "print(results_df)"
      ],
      "metadata": {
        "colab": {
          "base_uri": "https://localhost:8080/"
        },
        "id": "VHnD12bnIrUv",
        "outputId": "c6cc8f05-3342-484b-a0b4-2d7e38fdb5bb"
      },
      "execution_count": null,
      "outputs": [
        {
          "output_type": "stream",
          "name": "stdout",
          "text": [
            "  category  score  priority\n",
            "0        A      2         1\n",
            "1        A      4         2\n",
            "2        B      2         3\n",
            "  category  score  priority\n",
            "0        A    3.0       1.5\n",
            "1        B    2.0       3.0\n"
          ]
        }
      ]
    },
    {
      "cell_type": "markdown",
      "source": [
        "Q-3 CREATE A SCATTER PLOT USING MATPLOTLIB?"
      ],
      "metadata": {
        "id": "d_QupXuSAW2g"
      }
    },
    {
      "cell_type": "code",
      "source": [
        "import numpy as np"
      ],
      "metadata": {
        "id": "mmO8jPU8J1vQ"
      },
      "execution_count": null,
      "outputs": []
    },
    {
      "cell_type": "code",
      "source": [
        "import matplotlib.pyplot as plt\n",
        "x = np.random.rand(50)\n",
        "y = np.random.rand(50)\n",
        "plt.scatter(x,y, c = 'red' , marker='x', s = 100)\n",
        "plt.show()"
      ],
      "metadata": {
        "colab": {
          "base_uri": "https://localhost:8080/",
          "height": 430
        },
        "id": "-aCfvrzaKkgK",
        "outputId": "d2cd3c6a-bd22-4652-c5d7-4a1578ce0042"
      },
      "execution_count": null,
      "outputs": [
        {
          "output_type": "display_data",
          "data": {
            "text/plain": [
              "<Figure size 640x480 with 1 Axes>"
            ],
            "image/png": "[encoded data removed]"
          },
          "metadata": {}
        }
      ]
    },
    {
      "cell_type": "markdown",
      "source": [
        "Q-4 HOW DO YOU CALCULATE THE CORRELATION MATRIX USING SEABORN AND VISUALIZE IT WITH A HEATMAP?"
      ],
      "metadata": {
        "id": "5q3j1dGbAd1M"
      }
    },
    {
      "cell_type": "code",
      "source": [
        "import pandas as pd\n",
        "import seaborn as sns\n",
        "import matplotlib.pyplot as plt\n",
        "df = sns.load_dataset('iris')\n",
        "print(df.head())\n",
        "correlation_matrix = df.corr(numeric_only=True)\n",
        "plt.figure(figsize=(8,6))\n",
        "sns.heatmap(correlation_matrix, annot=True , cmap ='coolwarm')\n",
        "plt.show()\n"
      ],
      "metadata": {
        "id": "gMfQiSARLK1R",
        "colab": {
          "base_uri": "https://localhost:8080/",
          "height": 630
        },
        "outputId": "2bb52d13-5208-4676-aeec-2097de57ab1e"
      },
      "execution_count": 57,
      "outputs": [
        {
          "output_type": "stream",
          "name": "stdout",
          "text": [
            "   sepal_length  sepal_width  petal_length  petal_width species\n",
            "0           5.1          3.5           1.4          0.2  setosa\n",
            "1           4.9          3.0           1.4          0.2  setosa\n",
            "2           4.7          3.2           1.3          0.2  setosa\n",
            "3           4.6          3.1           1.5          0.2  setosa\n",
            "4           5.0          3.6           1.4          0.2  setosa\n"
          ]
        },
        {
          "output_type": "display_data",
          "data": {
            "text/plain": [
              "<Figure size 800x600 with 2 Axes>"
            ],
            "image/png": "[encoded data removed]"
          },
          "metadata": {}
        }
      ]
    },
    {
      "cell_type": "code",
      "source": [],
      "metadata": {
        "id": "6OgKiSFby_Ag"
      },
      "execution_count": null,
      "outputs": []
    },
    {
      "cell_type": "markdown",
      "source": [
        "Q-5 GENERATE A BAR PLOT USING PLOTLY?"
      ],
      "metadata": {
        "id": "OXe5eRlyAn13"
      }
    },
    {
      "cell_type": "code",
      "source": [
        "import plotly.express as px\n",
        "import pandas as pd"
      ],
      "metadata": {
        "id": "oNskh5-ezGkG"
      },
      "execution_count": null,
      "outputs": []
    },
    {
      "cell_type": "code",
      "source": [
        "data = {\n",
        "    'category':['A', 'B' ,'A' ,'C' ,'B' , 'A' ,'C','C' ,'B','A']\n",
        "}\n",
        "df = pd.DataFrame(data)\n",
        "category_counts = df['category'].value_counts()\n"
      ],
      "metadata": {
        "id": "O_skosp_2-XN"
      },
      "execution_count": null,
      "outputs": []
    },
    {
      "cell_type": "code",
      "source": [
        "fig= px.bar(\n",
        "     x=category_counts.index,\n",
        "     y=category_counts.values,\n",
        "     labels={'x':'category' , 'y': 'count'},\n",
        "     title='category counts'\n",
        ")\n",
        "fig.show()"
      ],
      "metadata": {
        "colab": {
          "base_uri": "https://localhost:8080/",
          "height": 542
        },
        "id": "ZsjE7o5U3yCN",
        "outputId": "45f449c0-cc07-4b7f-bfba-4955f445ca69"
      },
      "execution_count": null,
      "outputs": [
        {
          "output_type": "display_data",
          "data": {
            "text/html": [
              "<html>\n",
              "<head><meta charset=\"utf-8\" /></head>\n",
              "<body>\n",
              "    <div>            <script src=\"https://cdnjs.cloudflare.com/ajax/libs/mathjax/2.7.5/MathJax.js?config=TeX-AMS-MML_SVG\"></script><script type=\"text/javascript\">if (window.MathJax && window.MathJax.Hub && window.MathJax.Hub.Config) {window.MathJax.Hub.Config({SVG: {font: \"STIX-Web\"}});}</script>                <script type=\"text/javascript\">window.PlotlyConfig = {MathJaxConfig: 'local'};</script>\n",
              "        <script charset=\"utf-8\" src=\"https://cdn.plot.ly/plotly-2.35.2.min.js\"></script>                <div id=\"26e7b17a-d1b2-4b77-8044-05b50176e2dc\" class=\"plotly-graph-div\" style=\"height:525px; width:100%;\"></div>            <script type=\"text/javascript\">                                    window.PLOTLYENV=window.PLOTLYENV || {};                                    if (document.getElementById(\"26e7b17a-d1b2-4b77-8044-05b50176e2dc\")) {                    Plotly.newPlot(                        \"26e7b17a-d1b2-4b77-8044-05b50176e2dc\",                        [{\"alignmentgroup\":\"True\",\"hovertemplate\":\"category=%{x}\\u003cbr\\u003ecount=%{y}\\u003cextra\\u003e\\u003c\\u002fextra\\u003e\",\"legendgroup\":\"\",\"marker\":{\"color\":\"#636efa\",\"pattern\":{\"shape\":\"\"}},\"name\":\"\",\"offsetgroup\":\"\",\"orientation\":\"v\",\"showlegend\":false,\"textposition\":\"auto\",\"x\":[\"A\",\"B\",\"C\"],\"xaxis\":\"x\",\"y\":[4,3,3],\"yaxis\":\"y\",\"type\":\"bar\"}],                        {\"template\":{\"data\":{\"histogram2dcontour\":[{\"type\":\"histogram2dcontour\",\"colorbar\":{\"outlinewidth\":0,\"ticks\":\"\"},\"colorscale\":[[0.0,\"#0d0887\"],[0.1111111111111111,\"#46039f\"],[0.2222222222222222,\"#7201a8\"],[0.3333333333333333,\"#9c179e\"],[0.4444444444444444,\"#bd3786\"],[0.5555555555555556,\"#d8576b\"],[0.6666666666666666,\"#ed7953\"],[0.7777777777777778,\"#fb9f3a\"],[0.8888888888888888,\"#fdca26\"],[1.0,\"#f0f921\"]]}],\"choropleth\":[{\"type\":\"choropleth\",\"colorbar\":{\"outlinewidth\":0,\"ticks\":\"\"}}],\"histogram2d\":[{\"type\":\"histogram2d\",\"colorbar\":{\"outlinewidth\":0,\"ticks\":\"\"},\"colorscale\":[[0.0,\"#0d0887\"],[0.1111111111111111,\"#46039f\"],[0.2222222222222222,\"#7201a8\"],[0.3333333333333333,\"#9c179e\"],[0.4444444444444444,\"#bd3786\"],[0.5555555555555556,\"#d8576b\"],[0.6666666666666666,\"#ed7953\"],[0.7777777777777778,\"#fb9f3a\"],[0.8888888888888888,\"#fdca26\"],[1.0,\"#f0f921\"]]}],\"heatmap\":[{\"type\":\"heatmap\",\"colorbar\":{\"outlinewidth\":0,\"ticks\":\"\"},\"colorscale\":[[0.0,\"#0d0887\"],[0.1111111111111111,\"#46039f\"],[0.2222222222222222,\"#7201a8\"],[0.3333333333333333,\"#9c179e\"],[0.4444444444444444,\"#bd3786\"],[0.5555555555555556,\"#d8576b\"],[0.6666666666666666,\"#ed7953\"],[0.7777777777777778,\"#fb9f3a\"],[0.8888888888888888,\"#fdca26\"],[1.0,\"#f0f921\"]]}],\"heatmapgl\":[{\"type\":\"heatmapgl\",\"colorbar\":{\"outlinewidth\":0,\"ticks\":\"\"},\"colorscale\":[[0.0,\"#0d0887\"],[0.1111111111111111,\"#46039f\"],[0.2222222222222222,\"#7201a8\"],[0.3333333333333333,\"#9c179e\"],[0.4444444444444444,\"#bd3786\"],[0.5555555555555556,\"#d8576b\"],[0.6666666666666666,\"#ed7953\"],[0.7777777777777778,\"#fb9f3a\"],[0.8888888888888888,\"#fdca26\"],[1.0,\"#f0f921\"]]}],\"contourcarpet\":[{\"type\":\"contourcarpet\",\"colorbar\":{\"outlinewidth\":0,\"ticks\":\"\"}}],\"contour\":[{\"type\":\"contour\",\"colorbar\":{\"outlinewidth\":0,\"ticks\":\"\"},\"colorscale\":[[0.0,\"#0d0887\"],[0.1111111111111111,\"#46039f\"],[0.2222222222222222,\"#7201a8\"],[0.3333333333333333,\"#9c179e\"],[0.4444444444444444,\"#bd3786\"],[0.5555555555555556,\"#d8576b\"],[0.6666666666666666,\"#ed7953\"],[0.7777777777777778,\"#fb9f3a\"],[0.8888888888888888,\"#fdca26\"],[1.0,\"#f0f921\"]]}],\"surface\":[{\"type\":\"surface\",\"colorbar\":{\"outlinewidth\":0,\"ticks\":\"\"},\"colorscale\":[[0.0,\"#0d0887\"],[0.1111111111111111,\"#46039f\"],[0.2222222222222222,\"#7201a8\"],[0.3333333333333333,\"#9c179e\"],[0.4444444444444444,\"#bd3786\"],[0.5555555555555556,\"#d8576b\"],[0.6666666666666666,\"#ed7953\"],[0.7777777777777778,\"#fb9f3a\"],[0.8888888888888888,\"#fdca26\"],[1.0,\"#f0f921\"]]}],\"mesh3d\":[{\"type\":\"mesh3d\",\"colorbar\":{\"outlinewidth\":0,\"ticks\":\"\"}}],\"scatter\":[{\"fillpattern\":{\"fillmode\":\"overlay\",\"size\":10,\"solidity\":0.2},\"type\":\"scatter\"}],\"parcoords\":[{\"type\":\"parcoords\",\"line\":{\"colorbar\":{\"outlinewidth\":0,\"ticks\":\"\"}}}],\"scatterpolargl\":[{\"type\":\"scatterpolargl\",\"marker\":{\"colorbar\":{\"outlinewidth\":0,\"ticks\":\"\"}}}],\"bar\":[{\"error_x\":{\"color\":\"#2a3f5f\"},\"error_y\":{\"color\":\"#2a3f5f\"},\"marker\":{\"line\":{\"color\":\"#E5ECF6\",\"width\":0.5},\"pattern\":{\"fillmode\":\"overlay\",\"size\":10,\"solidity\":0.2}},\"type\":\"bar\"}],\"scattergeo\":[{\"type\":\"scattergeo\",\"marker\":{\"colorbar\":{\"outlinewidth\":0,\"ticks\":\"\"}}}],\"scatterpolar\":[{\"type\":\"scatterpolar\",\"marker\":{\"colorbar\":{\"outlinewidth\":0,\"ticks\":\"\"}}}],\"histogram\":[{\"marker\":{\"pattern\":{\"fillmode\":\"overlay\",\"size\":10,\"solidity\":0.2}},\"type\":\"histogram\"}],\"scattergl\":[{\"type\":\"scattergl\",\"marker\":{\"colorbar\":{\"outlinewidth\":0,\"ticks\":\"\"}}}],\"scatter3d\":[{\"type\":\"scatter3d\",\"line\":{\"colorbar\":{\"outlinewidth\":0,\"ticks\":\"\"}},\"marker\":{\"colorbar\":{\"outlinewidth\":0,\"ticks\":\"\"}}}],\"scattermapbox\":[{\"type\":\"scattermapbox\",\"marker\":{\"colorbar\":{\"outlinewidth\":0,\"ticks\":\"\"}}}],\"scatterternary\":[{\"type\":\"scatterternary\",\"marker\":{\"colorbar\":{\"outlinewidth\":0,\"ticks\":\"\"}}}],\"scattercarpet\":[{\"type\":\"scattercarpet\",\"marker\":{\"colorbar\":{\"outlinewidth\":0,\"ticks\":\"\"}}}],\"carpet\":[{\"aaxis\":{\"endlinecolor\":\"#2a3f5f\",\"gridcolor\":\"white\",\"linecolor\":\"white\",\"minorgridcolor\":\"white\",\"startlinecolor\":\"#2a3f5f\"},\"baxis\":{\"endlinecolor\":\"#2a3f5f\",\"gridcolor\":\"white\",\"linecolor\":\"white\",\"minorgridcolor\":\"white\",\"startlinecolor\":\"#2a3f5f\"},\"type\":\"carpet\"}],\"table\":[{\"cells\":{\"fill\":{\"color\":\"#EBF0F8\"},\"line\":{\"color\":\"white\"}},\"header\":{\"fill\":{\"color\":\"#C8D4E3\"},\"line\":{\"color\":\"white\"}},\"type\":\"table\"}],\"barpolar\":[{\"marker\":{\"line\":{\"color\":\"#E5ECF6\",\"width\":0.5},\"pattern\":{\"fillmode\":\"overlay\",\"size\":10,\"solidity\":0.2}},\"type\":\"barpolar\"}],\"pie\":[{\"automargin\":true,\"type\":\"pie\"}]},\"layout\":{\"autotypenumbers\":\"strict\",\"colorway\":[\"#636efa\",\"#EF553B\",\"#00cc96\",\"#ab63fa\",\"#FFA15A\",\"#19d3f3\",\"#FF6692\",\"#B6E880\",\"#FF97FF\",\"#FECB52\"],\"font\":{\"color\":\"#2a3f5f\"},\"hovermode\":\"closest\",\"hoverlabel\":{\"align\":\"left\"},\"paper_bgcolor\":\"white\",\"plot_bgcolor\":\"#E5ECF6\",\"polar\":{\"bgcolor\":\"#E5ECF6\",\"angularaxis\":{\"gridcolor\":\"white\",\"linecolor\":\"white\",\"ticks\":\"\"},\"radialaxis\":{\"gridcolor\":\"white\",\"linecolor\":\"white\",\"ticks\":\"\"}},\"ternary\":{\"bgcolor\":\"#E5ECF6\",\"aaxis\":{\"gridcolor\":\"white\",\"linecolor\":\"white\",\"ticks\":\"\"},\"baxis\":{\"gridcolor\":\"white\",\"linecolor\":\"white\",\"ticks\":\"\"},\"caxis\":{\"gridcolor\":\"white\",\"linecolor\":\"white\",\"ticks\":\"\"}},\"coloraxis\":{\"colorbar\":{\"outlinewidth\":0,\"ticks\":\"\"}},\"colorscale\":{\"sequential\":[[0.0,\"#0d0887\"],[0.1111111111111111,\"#46039f\"],[0.2222222222222222,\"#7201a8\"],[0.3333333333333333,\"#9c179e\"],[0.4444444444444444,\"#bd3786\"],[0.5555555555555556,\"#d8576b\"],[0.6666666666666666,\"#ed7953\"],[0.7777777777777778,\"#fb9f3a\"],[0.8888888888888888,\"#fdca26\"],[1.0,\"#f0f921\"]],\"sequentialminus\":[[0.0,\"#0d0887\"],[0.1111111111111111,\"#46039f\"],[0.2222222222222222,\"#7201a8\"],[0.3333333333333333,\"#9c179e\"],[0.4444444444444444,\"#bd3786\"],[0.5555555555555556,\"#d8576b\"],[0.6666666666666666,\"#ed7953\"],[0.7777777777777778,\"#fb9f3a\"],[0.8888888888888888,\"#fdca26\"],[1.0,\"#f0f921\"]],\"diverging\":[[0,\"#8e0152\"],[0.1,\"#c51b7d\"],[0.2,\"#de77ae\"],[0.3,\"#f1b6da\"],[0.4,\"#fde0ef\"],[0.5,\"#f7f7f7\"],[0.6,\"#e6f5d0\"],[0.7,\"#b8e186\"],[0.8,\"#7fbc41\"],[0.9,\"#4d9221\"],[1,\"#276419\"]]},\"xaxis\":{\"gridcolor\":\"white\",\"linecolor\":\"white\",\"ticks\":\"\",\"title\":{\"standoff\":15},\"zerolinecolor\":\"white\",\"automargin\":true,\"zerolinewidth\":2},\"yaxis\":{\"gridcolor\":\"white\",\"linecolor\":\"white\",\"ticks\":\"\",\"title\":{\"standoff\":15},\"zerolinecolor\":\"white\",\"automargin\":true,\"zerolinewidth\":2},\"scene\":{\"xaxis\":{\"backgroundcolor\":\"#E5ECF6\",\"gridcolor\":\"white\",\"linecolor\":\"white\",\"showbackground\":true,\"ticks\":\"\",\"zerolinecolor\":\"white\",\"gridwidth\":2},\"yaxis\":{\"backgroundcolor\":\"#E5ECF6\",\"gridcolor\":\"white\",\"linecolor\":\"white\",\"showbackground\":true,\"ticks\":\"\",\"zerolinecolor\":\"white\",\"gridwidth\":2},\"zaxis\":{\"backgroundcolor\":\"#E5ECF6\",\"gridcolor\":\"white\",\"linecolor\":\"white\",\"showbackground\":true,\"ticks\":\"\",\"zerolinecolor\":\"white\",\"gridwidth\":2}},\"shapedefaults\":{\"line\":{\"color\":\"#2a3f5f\"}},\"annotationdefaults\":{\"arrowcolor\":\"#2a3f5f\",\"arrowhead\":0,\"arrowwidth\":1},\"geo\":{\"bgcolor\":\"white\",\"landcolor\":\"#E5ECF6\",\"subunitcolor\":\"white\",\"showland\":true,\"showlakes\":true,\"lakecolor\":\"white\"},\"title\":{\"x\":0.05},\"mapbox\":{\"style\":\"light\"}}},\"xaxis\":{\"anchor\":\"y\",\"domain\":[0.0,1.0],\"title\":{\"text\":\"category\"}},\"yaxis\":{\"anchor\":\"x\",\"domain\":[0.0,1.0],\"title\":{\"text\":\"count\"}},\"legend\":{\"tracegroupgap\":0},\"title\":{\"text\":\"category counts\"},\"barmode\":\"relative\"},                        {\"responsive\": true}                    ).then(function(){\n",
              "                            \n",
              "var gd = document.getElementById('26e7b17a-d1b2-4b77-8044-05b50176e2dc');\n",
              "var x = new MutationObserver(function (mutations, observer) {{\n",
              "        var display = window.getComputedStyle(gd).display;\n",
              "        if (!display || display === 'none') {{\n",
              "            console.log([gd, 'removed!']);\n",
              "            Plotly.purge(gd);\n",
              "            observer.disconnect();\n",
              "        }}\n",
              "}});\n",
              "\n",
              "// Listen for the removal of the full notebook cells\n",
              "var notebookContainer = gd.closest('#notebook-container');\n",
              "if (notebookContainer) {{\n",
              "    x.observe(notebookContainer, {childList: true});\n",
              "}}\n",
              "\n",
              "// Listen for the clearing of the current output cell\n",
              "var outputEl = gd.closest('.output');\n",
              "if (outputEl) {{\n",
              "    x.observe(outputEl, {childList: true});\n",
              "}}\n",
              "\n",
              "                        })                };                            </script>        </div>\n",
              "</body>\n",
              "</html>"
            ]
          },
          "metadata": {}
        }
      ]
    },
    {
      "cell_type": "markdown",
      "source": [
        "Q-6 CREATE A DataFrame AND ADD A NEW COLUMN BASED ON AN EXISTING COLUMN?"
      ],
      "metadata": {
        "id": "PtKqNXJyAsE3"
      }
    },
    {
      "cell_type": "code",
      "source": [
        "import pandas as pd\n",
        "df = pd.DataFrame('x',columns=['A' ,'B' ,'C'] , index = range(5))\n",
        "print(df)\n",
        "d = ['x' ,'x','x','x','x',]\n",
        "df['D']= d\n",
        "print(df)"
      ],
      "metadata": {
        "colab": {
          "base_uri": "https://localhost:8080/"
        },
        "id": "aFSE1_nm5UQi",
        "outputId": "35db0ccf-9fac-4ce2-b414-71223e3d1ee7"
      },
      "execution_count": null,
      "outputs": [
        {
          "output_type": "stream",
          "name": "stdout",
          "text": [
            "   A  B  C\n",
            "0  x  x  x\n",
            "1  x  x  x\n",
            "2  x  x  x\n",
            "3  x  x  x\n",
            "4  x  x  x\n",
            "   A  B  C  D\n",
            "0  x  x  x  x\n",
            "1  x  x  x  x\n",
            "2  x  x  x  x\n",
            "3  x  x  x  x\n",
            "4  x  x  x  x\n"
          ]
        }
      ]
    },
    {
      "cell_type": "markdown",
      "source": [
        "Q-7 WRITE A PROGRAM TO PERFORM ELEMENT-WISE MULTIPLICATION OF TWO NUMPY ARRAYS?\n"
      ],
      "metadata": {
        "id": "2J5bOh2WA1BS"
      }
    },
    {
      "cell_type": "code",
      "source": [
        "import numpy as np\n",
        "a=np.array([[1,2],[3,4]])\n",
        "b=np.array([[5,6],[7,8]])\n",
        "array = np.multiply(a,b)\n",
        "print(array)"
      ],
      "metadata": {
        "colab": {
          "base_uri": "https://localhost:8080/"
        },
        "id": "xKaXvygA6ggW",
        "outputId": "c12af17b-7f1e-4284-8011-9a26a9c37aeb"
      },
      "execution_count": null,
      "outputs": [
        {
          "output_type": "stream",
          "name": "stdout",
          "text": [
            "[[ 5 12]\n",
            " [21 32]]\n"
          ]
        }
      ]
    },
    {
      "cell_type": "markdown",
      "source": [
        "Q-8 CREATE A LINE PLOT WITH MULTIPLE LINES USING MATPLOTLIB?"
      ],
      "metadata": {
        "id": "lJ0G5EaVA_Cu"
      }
    },
    {
      "cell_type": "code",
      "source": [
        "import matplotlib.pyplot as plt\n",
        "plt.title('class marks in graph')\n",
        "plt.xlabel('subjects')\n",
        "plt.ylabel('marks')\n",
        "x = ['maths','physics','chemistry']\n",
        "y1 = [89,68,44]\n",
        "plt.plot(x,y1 , label = 'studentA')\n",
        "y2 = [65,95,86]\n",
        "plt.plot(x,y2, label = 'studentB')\n",
        "y3 = [88,45,73]\n",
        "plt.plot(x,y3, label= 'studentC')\n",
        "plt.legend()\n",
        "plt.show()"
      ],
      "metadata": {
        "colab": {
          "base_uri": "https://localhost:8080/",
          "height": 472
        },
        "id": "l-pJyr1q7MbW",
        "outputId": "5f476523-428f-4b81-d2bd-6e1cf416183d"
      },
      "execution_count": null,
      "outputs": [
        {
          "output_type": "display_data",
          "data": {
            "text/plain": [
              "<Figure size 640x480 with 1 Axes>"
            ],
            "image/png": "[encoded data removed]"
          },
          "metadata": {}
        }
      ]
    },
    {
      "cell_type": "markdown",
      "source": [
        "Q-9 GENERATE A PANDAS DataFrame AND FILTER ROWS WHERE A COLUMN VALUE IS GREATER THAN A THRESHOLD?"
      ],
      "metadata": {
        "id": "qe1v6nc9BGtm"
      }
    },
    {
      "cell_type": "code",
      "source": [
        "import pandas as pd\n",
        "data= {'Name': ['alice','bob','charlie'],\n",
        "       'score': [85,42,90]}\n",
        "df = pd.DataFrame(data)\n",
        "filtered_df = df[df['score'] > threshold ]\n",
        "print(\"original DataFrame\")\n",
        "print(df)\n",
        "print(\"\\nFiltered Dataframe:\")\n",
        "print(filtered_df)"
      ],
      "metadata": {
        "colab": {
          "base_uri": "https://localhost:8080/"
        },
        "id": "kx-aPG38AHal",
        "outputId": "48440dd4-9a5c-417b-b3fd-4fc00a8c1bff"
      },
      "execution_count": null,
      "outputs": [
        {
          "output_type": "stream",
          "name": "stdout",
          "text": [
            "original DataFrame\n",
            "      Name  score\n",
            "0    alice     85\n",
            "1      bob     42\n",
            "2  charlie     90\n",
            "\n",
            "Filtered Dataframe:\n",
            "      Name  score\n",
            "0    alice     85\n",
            "2  charlie     90\n"
          ]
        }
      ]
    },
    {
      "cell_type": "markdown",
      "source": [
        "Q-10 CREATE A HISTOGRAM USING SEABORN TO VISUALIZE A DISTRIBUTION?"
      ],
      "metadata": {
        "id": "cvDEGpMfBV3D"
      }
    },
    {
      "cell_type": "code",
      "source": [
        "import seaborn as sys"
      ],
      "metadata": {
        "id": "9nyCF-A7BCsc"
      },
      "execution_count": null,
      "outputs": []
    },
    {
      "cell_type": "code",
      "source": [
        "import matplotlib.pyplot as plt\n",
        "\n",
        "data = np.random.randn(1000)\n",
        "sns.histplot(data,bins=30,kde=True ,color='skyblue')\n",
        "plt.title('distribution of random data')\n",
        "plt.xlabel(\"value\")\n",
        "plt.ylabel(\"frequency\")\n",
        "plt.show()"
      ],
      "metadata": {
        "colab": {
          "base_uri": "https://localhost:8080/",
          "height": 472
        },
        "id": "luoVyxfdIseJ",
        "outputId": "be235cf1-e876-465c-9ab3-589408df64bb"
      },
      "execution_count": null,
      "outputs": [
        {
          "output_type": "display_data",
          "data": {
            "text/plain": [
              "<Figure size 640x480 with 1 Axes>"
            ],
            "image/png": "[encoded data removed]"
          },
          "metadata": {}
        }
      ]
    },
    {
      "cell_type": "markdown",
      "source": [
        "Q-11 PERFORM MATRIX MULTIPLICATION USING NUMPY?"
      ],
      "metadata": {
        "id": "QxKeo7L1BeJS"
      }
    },
    {
      "cell_type": "code",
      "source": [],
      "metadata": {
        "id": "rFKvpcRdZZv4"
      },
      "execution_count": null,
      "outputs": []
    },
    {
      "cell_type": "code",
      "source": [
        "import numpy as np\n",
        "A1 = np.array([[2,0] ,[1,3]])\n",
        "B1 = np.array([[1,4],[2,3]])\n",
        "C1 = np.dot(A1,B1)\n",
        "print(C1)"
      ],
      "metadata": {
        "colab": {
          "base_uri": "https://localhost:8080/"
        },
        "id": "gFHqW3pKB_xk",
        "outputId": "4cd37886-44bd-43c9-bce4-1089c3d25273"
      },
      "execution_count": null,
      "outputs": [
        {
          "output_type": "stream",
          "name": "stdout",
          "text": [
            "[[ 2  8]\n",
            " [ 7 13]]\n"
          ]
        }
      ]
    },
    {
      "cell_type": "markdown",
      "source": [
        "Q-12 USE PANDAS TO LOAD A CVS FILE AND DISPLAY ITS FIRST 5 ROW?"
      ],
      "metadata": {
        "id": "7O8y-FyHBj0h"
      }
    },
    {
      "cell_type": "code",
      "source": [
        "from google.colab import files\n",
        "uploaded = files.upload()"
      ],
      "metadata": {
        "colab": {
          "base_uri": "https://localhost:8080/",
          "height": 69
        },
        "id": "BtdpUQFaZa0T",
        "outputId": "558eff0f-1677-47b2-9857-5e257a549f4b"
      },
      "execution_count": 67,
      "outputs": [
        {
          "output_type": "display_data",
          "data": {
            "text/plain": [
              "<IPython.core.display.HTML object>"
            ],
            "text/html": [
              "\n",
              "     <input type=\"file\" id=\"files-606ba335-6955-402b-929b-3a6788727dd1\" name=\"files[]\" multiple disabled\n",
              "        style=\"border:none\" />\n",
              "     <output id=\"result-606ba335-6955-402b-929b-3a6788727dd1\">\n",
              "      Upload widget is only available when the cell has been executed in the\n",
              "      current browser session. Please rerun this cell to enable.\n",
              "      </output>\n",
              "      <script>// Copyright 2017 Google LLC\n",
              "//\n",
              "// Licensed under the Apache License, Version 2.0 (the \"License\");\n",
              "// you may not use this file except in compliance with the License.\n",
              "// You may obtain a copy of the License at\n",
              "//\n",
              "//      http://www.apache.org/licenses/LICENSE-2.0\n",
              "//\n",
              "// Unless required by applicable law or agreed to in writing, software\n",
              "// distributed under the License is distributed on an \"AS IS\" BASIS,\n",
              "// WITHOUT WARRANTIES OR CONDITIONS OF ANY KIND, either express or implied.\n",
              "// See the License for the specific language governing permissions and\n",
              "// limitations under the License.\n",
              "\n",
              "/**\n",
              " * @fileoverview Helpers for google.colab Python module.\n",
              " */\n",
              "(function(scope) {\n",
              "function span(text, styleAttributes = {}) {\n",
              "  const element = document.createElement('span');\n",
              "  element.textContent = text;\n",
              "  for (const key of Object.keys(styleAttributes)) {\n",
              "    element.style[key] = styleAttributes[key];\n",
              "  }\n",
              "  return element;\n",
              "}\n",
              "\n",
              "// Max number of bytes which will be uploaded at a time.\n",
              "const MAX_PAYLOAD_SIZE = 100 * 1024;\n",
              "\n",
              "function _uploadFiles(inputId, outputId) {\n",
              "  const steps = uploadFilesStep(inputId, outputId);\n",
              "  const outputElement = document.getElementById(outputId);\n",
              "  // Cache steps on the outputElement to make it available for the next call\n",
              "  // to uploadFilesContinue from Python.\n",
              "  outputElement.steps = steps;\n",
              "\n",
              "  return _uploadFilesContinue(outputId);\n",
              "}\n",
              "\n",
              "// This is roughly an async generator (not supported in the browser yet),\n",
              "// where there are multiple asynchronous steps and the Python side is going\n",
              "// to poll for completion of each step.\n",
              "// This uses a Promise to block the python side on completion of each step,\n",
              "// then passes the result of the previous step as the input to the next step.\n",
              "function _uploadFilesContinue(outputId) {\n",
              "  const outputElement = document.getElementById(outputId);\n",
              "  const steps = outputElement.steps;\n",
              "\n",
              "  const next = steps.next(outputElement.lastPromiseValue);\n",
              "  return Promise.resolve(next.value.promise).then((value) => {\n",
              "    // Cache the last promise value to make it available to the next\n",
              "    // step of the generator.\n",
              "    outputElement.lastPromiseValue = value;\n",
              "    return next.value.response;\n",
              "  });\n",
              "}\n",
              "\n",
              "/**\n",
              " * Generator function which is called between each async step of the upload\n",
              " * process.\n",
              " * @param {string} inputId Element ID of the input file picker element.\n",
              " * @param {string} outputId Element ID of the output display.\n",
              " * @return {!Iterable<!Object>} Iterable of next steps.\n",
              " */\n",
              "function* uploadFilesStep(inputId, outputId) {\n",
              "  const inputElement = document.getElementById(inputId);\n",
              "  inputElement.disabled = false;\n",
              "\n",
              "  const outputElement = document.getElementById(outputId);\n",
              "  outputElement.innerHTML = '';\n",
              "\n",
              "  const pickedPromise = new Promise((resolve) => {\n",
              "    inputElement.addEventListener('change', (e) => {\n",
              "      resolve(e.target.files);\n",
              "    });\n",
              "  });\n",
              "\n",
              "  const cancel = document.createElement('button');\n",
              "  inputElement.parentElement.appendChild(cancel);\n",
              "  cancel.textContent = 'Cancel upload';\n",
              "  const cancelPromise = new Promise((resolve) => {\n",
              "    cancel.onclick = () => {\n",
              "      resolve(null);\n",
              "    };\n",
              "  });\n",
              "\n",
              "  // Wait for the user to pick the files.\n",
              "  const files = yield {\n",
              "    promise: Promise.race([pickedPromise, cancelPromise]),\n",
              "    response: {\n",
              "      action: 'starting',\n",
              "    }\n",
              "  };\n",
              "\n",
              "  cancel.remove();\n",
              "\n",
              "  // Disable the input element since further picks are not allowed.\n",
              "  inputElement.disabled = true;\n",
              "\n",
              "  if (!files) {\n",
              "    return {\n",
              "      response: {\n",
              "        action: 'complete',\n",
              "      }\n",
              "    };\n",
              "  }\n",
              "\n",
              "  for (const file of files) {\n",
              "    const li = document.createElement('li');\n",
              "    li.append(span(file.name, {fontWeight: 'bold'}));\n",
              "    li.append(span(\n",
              "        `(${file.type || 'n/a'}) - ${file.size} bytes, ` +\n",
              "        `last modified: ${\n",
              "            file.lastModifiedDate ? file.lastModifiedDate.toLocaleDateString() :\n",
              "                                    'n/a'} - `));\n",
              "    const percent = span('0% done');\n",
              "    li.appendChild(percent);\n",
              "\n",
              "    outputElement.appendChild(li);\n",
              "\n",
              "    const fileDataPromise = new Promise((resolve) => {\n",
              "      const reader = new FileReader();\n",
              "      reader.onload = (e) => {\n",
              "        resolve(e.target.result);\n",
              "      };\n",
              "      reader.readAsArrayBuffer(file);\n",
              "    });\n",
              "    // Wait for the data to be ready.\n",
              "    let fileData = yield {\n",
              "      promise: fileDataPromise,\n",
              "      response: {\n",
              "        action: 'continue',\n",
              "      }\n",
              "    };\n",
              "\n",
              "    // Use a chunked sending to avoid message size limits. See b/62115660.\n",
              "    let position = 0;\n",
              "    do {\n",
              "      const length = Math.min(fileData.byteLength - position, MAX_PAYLOAD_SIZE);\n",
              "      const chunk = new Uint8Array(fileData, position, length);\n",
              "      position += length;\n",
              "\n",
              "      const base64 = btoa(String.fromCharCode.apply(null, chunk));\n",
              "      yield {\n",
              "        response: {\n",
              "          action: 'append',\n",
              "          file: file.name,\n",
              "          data: base64,\n",
              "        },\n",
              "      };\n",
              "\n",
              "      let percentDone = fileData.byteLength === 0 ?\n",
              "          100 :\n",
              "          Math.round((position / fileData.byteLength) * 100);\n",
              "      percent.textContent = `${percentDone}% done`;\n",
              "\n",
              "    } while (position < fileData.byteLength);\n",
              "  }\n",
              "\n",
              "  // All done.\n",
              "  yield {\n",
              "    response: {\n",
              "      action: 'complete',\n",
              "    }\n",
              "  };\n",
              "}\n",
              "\n",
              "scope.google = scope.google || {};\n",
              "scope.google.colab = scope.google.colab || {};\n",
              "scope.google.colab._files = {\n",
              "  _uploadFiles,\n",
              "  _uploadFilesContinue,\n",
              "};\n",
              "})(self);\n",
              "</script> "
            ]
          },
          "metadata": {}
        },
        {
          "output_type": "stream",
          "name": "stdout",
          "text": [
            "Saving students.cvs to students (1).cvs\n"
          ]
        }
      ]
    },
    {
      "cell_type": "markdown",
      "source": [
        "# New Section"
      ],
      "metadata": {
        "id": "cGA7NSmqbx12"
      }
    },
    {
      "cell_type": "code",
      "source": [
        "import pandas as pd\n",
        "df = pd.read_csv('students.cvs')\n",
        "print(df.head())"
      ],
      "metadata": {
        "colab": {
          "base_uri": "https://localhost:8080/"
        },
        "id": "pL2lPlawaY-Q",
        "outputId": "acee3dc9-d38c-4efe-dbab-e2943f4c108e"
      },
      "execution_count": 69,
      "outputs": [
        {
          "output_type": "stream",
          "name": "stdout",
          "text": [
            "                students.cvs\n",
            "0  NAME     AGE      NUMBER \n",
            "1     bhavika  11        100\n",
            "2     naina    12        200\n",
            "3     simran   13        400\n"
          ]
        }
      ]
    },
    {
      "cell_type": "code",
      "source": [
        "import pandas as pd\n",
        "df = pd.read_csv('students.csv')\n",
        "print(df.head())"
      ],
      "metadata": {
        "colab": {
          "base_uri": "https://localhost:8080/",
          "height": 333
        },
        "id": "25iviwZcZvS1",
        "outputId": "176bd234-1653-45f8-bdff-91d758f9d111"
      },
      "execution_count": 65,
      "outputs": [
        {
          "output_type": "error",
          "ename": "FileNotFoundError",
          "evalue": "[Errno 2] No such file or directory: 'students.csv'",
          "traceback": [
            "\u001b[0;31m---------------------------------------------------------------------------\u001b[0m",
            "\u001b[0;31mFileNotFoundError\u001b[0m                         Traceback (most recent call last)",
            "\u001b[0;32m<ipython-input-65-3322041915>\u001b[0m in \u001b[0;36m<cell line: 0>\u001b[0;34m()\u001b[0m\n\u001b[1;32m      1\u001b[0m \u001b[0;32mimport\u001b[0m \u001b[0mpandas\u001b[0m \u001b[0;32mas\u001b[0m \u001b[0mpd\u001b[0m\u001b[0;34m\u001b[0m\u001b[0;34m\u001b[0m\u001b[0m\n\u001b[0;32m----> 2\u001b[0;31m \u001b[0mdf\u001b[0m \u001b[0;34m=\u001b[0m \u001b[0mpd\u001b[0m\u001b[0;34m.\u001b[0m\u001b[0mread_csv\u001b[0m\u001b[0;34m(\u001b[0m\u001b[0;34m'students.csv'\u001b[0m\u001b[0;34m)\u001b[0m\u001b[0;34m\u001b[0m\u001b[0;34m\u001b[0m\u001b[0m\n\u001b[0m\u001b[1;32m      3\u001b[0m \u001b[0mprint\u001b[0m\u001b[0;34m(\u001b[0m\u001b[0mdf\u001b[0m\u001b[0;34m.\u001b[0m\u001b[0mhead\u001b[0m\u001b[0;34m(\u001b[0m\u001b[0;34m)\u001b[0m\u001b[0;34m)\u001b[0m\u001b[0;34m\u001b[0m\u001b[0;34m\u001b[0m\u001b[0m\n",
            "\u001b[0;32m/usr/local/lib/python3.11/dist-packages/pandas/io/parsers/readers.py\u001b[0m in \u001b[0;36mread_csv\u001b[0;34m(filepath_or_buffer, sep, delimiter, header, names, index_col, usecols, dtype, engine, converters, true_values, false_values, skipinitialspace, skiprows, skipfooter, nrows, na_values, keep_default_na, na_filter, verbose, skip_blank_lines, parse_dates, infer_datetime_format, keep_date_col, date_parser, date_format, dayfirst, cache_dates, iterator, chunksize, compression, thousands, decimal, lineterminator, quotechar, quoting, doublequote, escapechar, comment, encoding, encoding_errors, dialect, on_bad_lines, delim_whitespace, low_memory, memory_map, float_precision, storage_options, dtype_backend)\u001b[0m\n\u001b[1;32m   1024\u001b[0m     \u001b[0mkwds\u001b[0m\u001b[0;34m.\u001b[0m\u001b[0mupdate\u001b[0m\u001b[0;34m(\u001b[0m\u001b[0mkwds_defaults\u001b[0m\u001b[0;34m)\u001b[0m\u001b[0;34m\u001b[0m\u001b[0;34m\u001b[0m\u001b[0m\n\u001b[1;32m   1025\u001b[0m \u001b[0;34m\u001b[0m\u001b[0m\n\u001b[0;32m-> 1026\u001b[0;31m     \u001b[0;32mreturn\u001b[0m \u001b[0m_read\u001b[0m\u001b[0;34m(\u001b[0m\u001b[0mfilepath_or_buffer\u001b[0m\u001b[0;34m,\u001b[0m \u001b[0mkwds\u001b[0m\u001b[0;34m)\u001b[0m\u001b[0;34m\u001b[0m\u001b[0;34m\u001b[0m\u001b[0m\n\u001b[0m\u001b[1;32m   1027\u001b[0m \u001b[0;34m\u001b[0m\u001b[0m\n\u001b[1;32m   1028\u001b[0m \u001b[0;34m\u001b[0m\u001b[0m\n",
            "\u001b[0;32m/usr/local/lib/python3.11/dist-packages/pandas/io/parsers/readers.py\u001b[0m in \u001b[0;36m_read\u001b[0;34m(filepath_or_buffer, kwds)\u001b[0m\n\u001b[1;32m    618\u001b[0m \u001b[0;34m\u001b[0m\u001b[0m\n\u001b[1;32m    619\u001b[0m     \u001b[0;31m# Create the parser.\u001b[0m\u001b[0;34m\u001b[0m\u001b[0;34m\u001b[0m\u001b[0m\n\u001b[0;32m--> 620\u001b[0;31m     \u001b[0mparser\u001b[0m \u001b[0;34m=\u001b[0m \u001b[0mTextFileReader\u001b[0m\u001b[0;34m(\u001b[0m\u001b[0mfilepath_or_buffer\u001b[0m\u001b[0;34m,\u001b[0m \u001b[0;34m**\u001b[0m\u001b[0mkwds\u001b[0m\u001b[0;34m)\u001b[0m\u001b[0;34m\u001b[0m\u001b[0;34m\u001b[0m\u001b[0m\n\u001b[0m\u001b[1;32m    621\u001b[0m \u001b[0;34m\u001b[0m\u001b[0m\n\u001b[1;32m    622\u001b[0m     \u001b[0;32mif\u001b[0m \u001b[0mchunksize\u001b[0m \u001b[0;32mor\u001b[0m \u001b[0miterator\u001b[0m\u001b[0;34m:\u001b[0m\u001b[0;34m\u001b[0m\u001b[0;34m\u001b[0m\u001b[0m\n",
            "\u001b[0;32m/usr/local/lib/python3.11/dist-packages/pandas/io/parsers/readers.py\u001b[0m in \u001b[0;36m__init__\u001b[0;34m(self, f, engine, **kwds)\u001b[0m\n\u001b[1;32m   1618\u001b[0m \u001b[0;34m\u001b[0m\u001b[0m\n\u001b[1;32m   1619\u001b[0m         \u001b[0mself\u001b[0m\u001b[0;34m.\u001b[0m\u001b[0mhandles\u001b[0m\u001b[0;34m:\u001b[0m \u001b[0mIOHandles\u001b[0m \u001b[0;34m|\u001b[0m \u001b[0;32mNone\u001b[0m \u001b[0;34m=\u001b[0m \u001b[0;32mNone\u001b[0m\u001b[0;34m\u001b[0m\u001b[0;34m\u001b[0m\u001b[0m\n\u001b[0;32m-> 1620\u001b[0;31m         \u001b[0mself\u001b[0m\u001b[0;34m.\u001b[0m\u001b[0m_engine\u001b[0m \u001b[0;34m=\u001b[0m \u001b[0mself\u001b[0m\u001b[0;34m.\u001b[0m\u001b[0m_make_engine\u001b[0m\u001b[0;34m(\u001b[0m\u001b[0mf\u001b[0m\u001b[0;34m,\u001b[0m \u001b[0mself\u001b[0m\u001b[0;34m.\u001b[0m\u001b[0mengine\u001b[0m\u001b[0;34m)\u001b[0m\u001b[0;34m\u001b[0m\u001b[0;34m\u001b[0m\u001b[0m\n\u001b[0m\u001b[1;32m   1621\u001b[0m \u001b[0;34m\u001b[0m\u001b[0m\n\u001b[1;32m   1622\u001b[0m     \u001b[0;32mdef\u001b[0m \u001b[0mclose\u001b[0m\u001b[0;34m(\u001b[0m\u001b[0mself\u001b[0m\u001b[0;34m)\u001b[0m \u001b[0;34m->\u001b[0m \u001b[0;32mNone\u001b[0m\u001b[0;34m:\u001b[0m\u001b[0;34m\u001b[0m\u001b[0;34m\u001b[0m\u001b[0m\n",
            "\u001b[0;32m/usr/local/lib/python3.11/dist-packages/pandas/io/parsers/readers.py\u001b[0m in \u001b[0;36m_make_engine\u001b[0;34m(self, f, engine)\u001b[0m\n\u001b[1;32m   1878\u001b[0m                 \u001b[0;32mif\u001b[0m \u001b[0;34m\"b\"\u001b[0m \u001b[0;32mnot\u001b[0m \u001b[0;32min\u001b[0m \u001b[0mmode\u001b[0m\u001b[0;34m:\u001b[0m\u001b[0;34m\u001b[0m\u001b[0;34m\u001b[0m\u001b[0m\n\u001b[1;32m   1879\u001b[0m                     \u001b[0mmode\u001b[0m \u001b[0;34m+=\u001b[0m \u001b[0;34m\"b\"\u001b[0m\u001b[0;34m\u001b[0m\u001b[0;34m\u001b[0m\u001b[0m\n\u001b[0;32m-> 1880\u001b[0;31m             self.handles = get_handle(\n\u001b[0m\u001b[1;32m   1881\u001b[0m                 \u001b[0mf\u001b[0m\u001b[0;34m,\u001b[0m\u001b[0;34m\u001b[0m\u001b[0;34m\u001b[0m\u001b[0m\n\u001b[1;32m   1882\u001b[0m                 \u001b[0mmode\u001b[0m\u001b[0;34m,\u001b[0m\u001b[0;34m\u001b[0m\u001b[0;34m\u001b[0m\u001b[0m\n",
            "\u001b[0;32m/usr/local/lib/python3.11/dist-packages/pandas/io/common.py\u001b[0m in \u001b[0;36mget_handle\u001b[0;34m(path_or_buf, mode, encoding, compression, memory_map, is_text, errors, storage_options)\u001b[0m\n\u001b[1;32m    871\u001b[0m         \u001b[0;32mif\u001b[0m \u001b[0mioargs\u001b[0m\u001b[0;34m.\u001b[0m\u001b[0mencoding\u001b[0m \u001b[0;32mand\u001b[0m \u001b[0;34m\"b\"\u001b[0m \u001b[0;32mnot\u001b[0m \u001b[0;32min\u001b[0m \u001b[0mioargs\u001b[0m\u001b[0;34m.\u001b[0m\u001b[0mmode\u001b[0m\u001b[0;34m:\u001b[0m\u001b[0;34m\u001b[0m\u001b[0;34m\u001b[0m\u001b[0m\n\u001b[1;32m    872\u001b[0m             \u001b[0;31m# Encoding\u001b[0m\u001b[0;34m\u001b[0m\u001b[0;34m\u001b[0m\u001b[0m\n\u001b[0;32m--> 873\u001b[0;31m             handle = open(\n\u001b[0m\u001b[1;32m    874\u001b[0m                 \u001b[0mhandle\u001b[0m\u001b[0;34m,\u001b[0m\u001b[0;34m\u001b[0m\u001b[0;34m\u001b[0m\u001b[0m\n\u001b[1;32m    875\u001b[0m                 \u001b[0mioargs\u001b[0m\u001b[0;34m.\u001b[0m\u001b[0mmode\u001b[0m\u001b[0;34m,\u001b[0m\u001b[0;34m\u001b[0m\u001b[0;34m\u001b[0m\u001b[0m\n",
            "\u001b[0;31mFileNotFoundError\u001b[0m: [Errno 2] No such file or directory: 'students.csv'"
          ]
        }
      ]
    },
    {
      "cell_type": "code",
      "source": [
        "import pandas as pd\n",
        "data = pd.read_cvs('')\n",
        "data.head()"
      ],
      "metadata": {
        "colab": {
          "base_uri": "https://localhost:8080/",
          "height": 173
        },
        "id": "a7KYMcr7CvAL",
        "outputId": "6279af30-94e2-423c-88c7-73445e794fee"
      },
      "execution_count": 60,
      "outputs": [
        {
          "output_type": "error",
          "ename": "AttributeError",
          "evalue": "module 'pandas' has no attribute 'read_cvs'",
          "traceback": [
            "\u001b[0;31m---------------------------------------------------------------------------\u001b[0m",
            "\u001b[0;31mAttributeError\u001b[0m                            Traceback (most recent call last)",
            "\u001b[0;32m<ipython-input-60-39954448>\u001b[0m in \u001b[0;36m<cell line: 0>\u001b[0;34m()\u001b[0m\n\u001b[1;32m      1\u001b[0m \u001b[0;32mimport\u001b[0m \u001b[0mpandas\u001b[0m \u001b[0;32mas\u001b[0m \u001b[0mpd\u001b[0m\u001b[0;34m\u001b[0m\u001b[0;34m\u001b[0m\u001b[0m\n\u001b[0;32m----> 2\u001b[0;31m \u001b[0mdata\u001b[0m \u001b[0;34m=\u001b[0m \u001b[0mpd\u001b[0m\u001b[0;34m.\u001b[0m\u001b[0mread_cvs\u001b[0m\u001b[0;34m(\u001b[0m\u001b[0;34m''\u001b[0m\u001b[0;34m)\u001b[0m\u001b[0;34m\u001b[0m\u001b[0;34m\u001b[0m\u001b[0m\n\u001b[0m\u001b[1;32m      3\u001b[0m \u001b[0mdata\u001b[0m\u001b[0;34m.\u001b[0m\u001b[0mhead\u001b[0m\u001b[0;34m(\u001b[0m\u001b[0;34m)\u001b[0m\u001b[0;34m\u001b[0m\u001b[0;34m\u001b[0m\u001b[0m\n",
            "\u001b[0;31mAttributeError\u001b[0m: module 'pandas' has no attribute 'read_cvs'"
          ]
        }
      ]
    },
    {
      "cell_type": "markdown",
      "source": [
        "Q-13 CREATE A 3D SCATTER PLOT USING PLOTLY?"
      ],
      "metadata": {
        "id": "X1KAXAmaBsGN"
      }
    },
    {
      "cell_type": "code",
      "source": [
        "import plotly.graph_objects as go\n",
        "import numpy as np\n",
        "np.random.seed(42)\n",
        "x = np.random.randn(50)\n",
        "y = np.random.randn(50)\n",
        "z = np.random.randn(50)\n",
        "\n",
        "fig = go.Figure(data=[go.Scatter3d(\n",
        "    x=x,\n",
        "    y=y,\n",
        "    z=z,\n",
        "    mode = 'markers',\n",
        "    marker = dict(\n",
        "        size=5,\n",
        "        color=z,\n",
        "        colorscale='Viridis',\n",
        "        opacity =0.8\n",
        ")\n",
        ")])\n",
        "fig.update_layout(title='3D Scatter Plot' , scene=dict(xaxis_title = 'X' , yaxis_title='Y', zaxis_title ='Z') )\n",
        "fig.show()"
      ],
      "metadata": {
        "colab": {
          "base_uri": "https://localhost:8080/",
          "height": 542
        },
        "id": "l7NJUNUNK7xi",
        "outputId": "afc39a49-f27c-47f8-83cb-d1ff1fd2f2cc"
      },
      "execution_count": 59,
      "outputs": [
        {
          "output_type": "display_data",
          "data": {
            "text/html": [
              "<html>\n",
              "<head><meta charset=\"utf-8\" /></head>\n",
              "<body>\n",
              "    <div>            <script src=\"https://cdnjs.cloudflare.com/ajax/libs/mathjax/2.7.5/MathJax.js?config=TeX-AMS-MML_SVG\"></script><script type=\"text/javascript\">if (window.MathJax && window.MathJax.Hub && window.MathJax.Hub.Config) {window.MathJax.Hub.Config({SVG: {font: \"STIX-Web\"}});}</script>                <script type=\"text/javascript\">window.PlotlyConfig = {MathJaxConfig: 'local'};</script>\n",
              "        <script charset=\"utf-8\" src=\"https://cdn.plot.ly/plotly-2.35.2.min.js\"></script>                <div id=\"44bbe3d8-0e2b-4a89-8e84-a2fcb3ab131f\" class=\"plotly-graph-div\" style=\"height:525px; width:100%;\"></div>            <script type=\"text/javascript\">                                    window.PLOTLYENV=window.PLOTLYENV || {};                                    if (document.getElementById(\"44bbe3d8-0e2b-4a89-8e84-a2fcb3ab131f\")) {                    Plotly.newPlot(                        \"44bbe3d8-0e2b-4a89-8e84-a2fcb3ab131f\",                        [{\"marker\":{\"color\":[-1.4153707420504142,-0.42064532276535904,-0.3427145165267695,-0.8022772692216189,-0.16128571166600914,0.4040508568145384,1.8861859012105302,0.17457781283183896,0.25755039072276437,-0.07444591576616721,-1.9187712152990415,-0.026513875449216878,0.06023020994102644,2.463242112485286,-0.19236096478112252,0.30154734233361247,-0.03471176970524331,-1.168678037619532,1.1428228145150205,0.7519330326867741,0.7910319470430469,-0.9093874547947389,1.4027943109360992,-1.4018510627922809,0.5868570938002703,2.1904556258099785,-0.9905363251306883,-0.5662977296027719,0.09965136508764122,-0.5034756541161992,-1.5506634310661327,0.06856297480602733,-1.0623037137261049,0.4735924306351816,-0.9194242342338032,1.5499344050175394,-0.7832532923362371,-0.3220615162056756,0.8135172173696698,-1.2308643164339552,0.22745993460412942,1.307142754282428,-1.6074832345612275,0.1846338585323042,0.25988279424842353,0.7818228717773104,-1.236950710878082,-1.3204566130842763,0.5219415656168976,0.29698467323318606],\"colorscale\":[[0.0,\"#440154\"],[0.1111111111111111,\"#482878\"],[0.2222222222222222,\"#3e4989\"],[0.3333333333333333,\"#31688e\"],[0.4444444444444444,\"#26828e\"],[0.5555555555555556,\"#1f9e89\"],[0.6666666666666666,\"#35b779\"],[0.7777777777777778,\"#6ece58\"],[0.8888888888888888,\"#b5de2b\"],[1.0,\"#fde725\"]],\"opacity\":0.8,\"size\":5},\"mode\":\"markers\",\"x\":[0.4967141530112327,-0.13826430117118466,0.6476885381006925,1.5230298564080254,-0.23415337472333597,-0.23413695694918055,1.5792128155073915,0.7674347291529088,-0.4694743859349521,0.5425600435859647,-0.46341769281246226,-0.46572975357025687,0.24196227156603412,-1.913280244657798,-1.7249178325130328,-0.5622875292409727,-1.0128311203344238,0.3142473325952739,-0.9080240755212109,-1.4123037013352915,1.465648768921554,-0.22577630048653566,0.06752820468792384,-1.4247481862134568,-0.5443827245251827,0.11092258970986608,-1.1509935774223028,0.37569801834567196,-0.600638689918805,-0.2916937497932768,-0.6017066122293969,1.8522781845089378,-0.013497224737933921,-1.0577109289559004,0.822544912103189,-1.2208436499710222,0.2088635950047554,-1.9596701238797756,-1.3281860488984305,0.19686123586912352,0.7384665799954104,0.1713682811899705,-0.11564828238824053,-0.3011036955892888,-1.4785219903674274,-0.7198442083947086,-0.4606387709597875,1.0571222262189157,0.3436182895684614,-1.763040155362734],\"y\":[0.324083969394795,-0.38508228041631654,-0.6769220003059587,0.6116762888408679,1.030999522495951,0.9312801191161986,-0.8392175232226385,-0.3092123758512146,0.33126343140356396,0.9755451271223592,-0.47917423784528995,-0.18565897666381712,-1.1063349740060282,-1.1962066240806708,0.812525822394198,1.356240028570823,-0.07201012158033385,1.0035328978920242,0.36163602504763415,-0.6451197546051243,0.36139560550841393,1.5380365664659692,-0.03582603910995154,1.5646436558140062,-2.6197451040897444,0.8219025043752238,0.08704706823817122,-0.29900735046586746,0.0917607765355023,-1.9875689146008928,-0.21967188783751193,0.3571125715117464,1.477894044741516,-0.5182702182736474,-0.8084936028931876,-0.5017570435845365,0.9154021177020741,0.32875110965968446,-0.5297602037670388,0.5132674331133561,0.09707754934804039,0.9686449905328892,-0.7020530938773524,-0.3276621465977682,-0.39210815313215763,-1.4635149481321186,0.29612027706457605,0.26105527217988933,0.00511345664246089,-0.23458713337514692],\"z\":[-1.4153707420504142,-0.42064532276535904,-0.3427145165267695,-0.8022772692216189,-0.16128571166600914,0.4040508568145384,1.8861859012105302,0.17457781283183896,0.25755039072276437,-0.07444591576616721,-1.9187712152990415,-0.026513875449216878,0.06023020994102644,2.463242112485286,-0.19236096478112252,0.30154734233361247,-0.03471176970524331,-1.168678037619532,1.1428228145150205,0.7519330326867741,0.7910319470430469,-0.9093874547947389,1.4027943109360992,-1.4018510627922809,0.5868570938002703,2.1904556258099785,-0.9905363251306883,-0.5662977296027719,0.09965136508764122,-0.5034756541161992,-1.5506634310661327,0.06856297480602733,-1.0623037137261049,0.4735924306351816,-0.9194242342338032,1.5499344050175394,-0.7832532923362371,-0.3220615162056756,0.8135172173696698,-1.2308643164339552,0.22745993460412942,1.307142754282428,-1.6074832345612275,0.1846338585323042,0.25988279424842353,0.7818228717773104,-1.236950710878082,-1.3204566130842763,0.5219415656168976,0.29698467323318606],\"type\":\"scatter3d\"}],                        {\"template\":{\"data\":{\"histogram2dcontour\":[{\"type\":\"histogram2dcontour\",\"colorbar\":{\"outlinewidth\":0,\"ticks\":\"\"},\"colorscale\":[[0.0,\"#0d0887\"],[0.1111111111111111,\"#46039f\"],[0.2222222222222222,\"#7201a8\"],[0.3333333333333333,\"#9c179e\"],[0.4444444444444444,\"#bd3786\"],[0.5555555555555556,\"#d8576b\"],[0.6666666666666666,\"#ed7953\"],[0.7777777777777778,\"#fb9f3a\"],[0.8888888888888888,\"#fdca26\"],[1.0,\"#f0f921\"]]}],\"choropleth\":[{\"type\":\"choropleth\",\"colorbar\":{\"outlinewidth\":0,\"ticks\":\"\"}}],\"histogram2d\":[{\"type\":\"histogram2d\",\"colorbar\":{\"outlinewidth\":0,\"ticks\":\"\"},\"colorscale\":[[0.0,\"#0d0887\"],[0.1111111111111111,\"#46039f\"],[0.2222222222222222,\"#7201a8\"],[0.3333333333333333,\"#9c179e\"],[0.4444444444444444,\"#bd3786\"],[0.5555555555555556,\"#d8576b\"],[0.6666666666666666,\"#ed7953\"],[0.7777777777777778,\"#fb9f3a\"],[0.8888888888888888,\"#fdca26\"],[1.0,\"#f0f921\"]]}],\"heatmap\":[{\"type\":\"heatmap\",\"colorbar\":{\"outlinewidth\":0,\"ticks\":\"\"},\"colorscale\":[[0.0,\"#0d0887\"],[0.1111111111111111,\"#46039f\"],[0.2222222222222222,\"#7201a8\"],[0.3333333333333333,\"#9c179e\"],[0.4444444444444444,\"#bd3786\"],[0.5555555555555556,\"#d8576b\"],[0.6666666666666666,\"#ed7953\"],[0.7777777777777778,\"#fb9f3a\"],[0.8888888888888888,\"#fdca26\"],[1.0,\"#f0f921\"]]}],\"heatmapgl\":[{\"type\":\"heatmapgl\",\"colorbar\":{\"outlinewidth\":0,\"ticks\":\"\"},\"colorscale\":[[0.0,\"#0d0887\"],[0.1111111111111111,\"#46039f\"],[0.2222222222222222,\"#7201a8\"],[0.3333333333333333,\"#9c179e\"],[0.4444444444444444,\"#bd3786\"],[0.5555555555555556,\"#d8576b\"],[0.6666666666666666,\"#ed7953\"],[0.7777777777777778,\"#fb9f3a\"],[0.8888888888888888,\"#fdca26\"],[1.0,\"#f0f921\"]]}],\"contourcarpet\":[{\"type\":\"contourcarpet\",\"colorbar\":{\"outlinewidth\":0,\"ticks\":\"\"}}],\"contour\":[{\"type\":\"contour\",\"colorbar\":{\"outlinewidth\":0,\"ticks\":\"\"},\"colorscale\":[[0.0,\"#0d0887\"],[0.1111111111111111,\"#46039f\"],[0.2222222222222222,\"#7201a8\"],[0.3333333333333333,\"#9c179e\"],[0.4444444444444444,\"#bd3786\"],[0.5555555555555556,\"#d8576b\"],[0.6666666666666666,\"#ed7953\"],[0.7777777777777778,\"#fb9f3a\"],[0.8888888888888888,\"#fdca26\"],[1.0,\"#f0f921\"]]}],\"surface\":[{\"type\":\"surface\",\"colorbar\":{\"outlinewidth\":0,\"ticks\":\"\"},\"colorscale\":[[0.0,\"#0d0887\"],[0.1111111111111111,\"#46039f\"],[0.2222222222222222,\"#7201a8\"],[0.3333333333333333,\"#9c179e\"],[0.4444444444444444,\"#bd3786\"],[0.5555555555555556,\"#d8576b\"],[0.6666666666666666,\"#ed7953\"],[0.7777777777777778,\"#fb9f3a\"],[0.8888888888888888,\"#fdca26\"],[1.0,\"#f0f921\"]]}],\"mesh3d\":[{\"type\":\"mesh3d\",\"colorbar\":{\"outlinewidth\":0,\"ticks\":\"\"}}],\"scatter\":[{\"fillpattern\":{\"fillmode\":\"overlay\",\"size\":10,\"solidity\":0.2},\"type\":\"scatter\"}],\"parcoords\":[{\"type\":\"parcoords\",\"line\":{\"colorbar\":{\"outlinewidth\":0,\"ticks\":\"\"}}}],\"scatterpolargl\":[{\"type\":\"scatterpolargl\",\"marker\":{\"colorbar\":{\"outlinewidth\":0,\"ticks\":\"\"}}}],\"bar\":[{\"error_x\":{\"color\":\"#2a3f5f\"},\"error_y\":{\"color\":\"#2a3f5f\"},\"marker\":{\"line\":{\"color\":\"#E5ECF6\",\"width\":0.5},\"pattern\":{\"fillmode\":\"overlay\",\"size\":10,\"solidity\":0.2}},\"type\":\"bar\"}],\"scattergeo\":[{\"type\":\"scattergeo\",\"marker\":{\"colorbar\":{\"outlinewidth\":0,\"ticks\":\"\"}}}],\"scatterpolar\":[{\"type\":\"scatterpolar\",\"marker\":{\"colorbar\":{\"outlinewidth\":0,\"ticks\":\"\"}}}],\"histogram\":[{\"marker\":{\"pattern\":{\"fillmode\":\"overlay\",\"size\":10,\"solidity\":0.2}},\"type\":\"histogram\"}],\"scattergl\":[{\"type\":\"scattergl\",\"marker\":{\"colorbar\":{\"outlinewidth\":0,\"ticks\":\"\"}}}],\"scatter3d\":[{\"type\":\"scatter3d\",\"line\":{\"colorbar\":{\"outlinewidth\":0,\"ticks\":\"\"}},\"marker\":{\"colorbar\":{\"outlinewidth\":0,\"ticks\":\"\"}}}],\"scattermapbox\":[{\"type\":\"scattermapbox\",\"marker\":{\"colorbar\":{\"outlinewidth\":0,\"ticks\":\"\"}}}],\"scatterternary\":[{\"type\":\"scatterternary\",\"marker\":{\"colorbar\":{\"outlinewidth\":0,\"ticks\":\"\"}}}],\"scattercarpet\":[{\"type\":\"scattercarpet\",\"marker\":{\"colorbar\":{\"outlinewidth\":0,\"ticks\":\"\"}}}],\"carpet\":[{\"aaxis\":{\"endlinecolor\":\"#2a3f5f\",\"gridcolor\":\"white\",\"linecolor\":\"white\",\"minorgridcolor\":\"white\",\"startlinecolor\":\"#2a3f5f\"},\"baxis\":{\"endlinecolor\":\"#2a3f5f\",\"gridcolor\":\"white\",\"linecolor\":\"white\",\"minorgridcolor\":\"white\",\"startlinecolor\":\"#2a3f5f\"},\"type\":\"carpet\"}],\"table\":[{\"cells\":{\"fill\":{\"color\":\"#EBF0F8\"},\"line\":{\"color\":\"white\"}},\"header\":{\"fill\":{\"color\":\"#C8D4E3\"},\"line\":{\"color\":\"white\"}},\"type\":\"table\"}],\"barpolar\":[{\"marker\":{\"line\":{\"color\":\"#E5ECF6\",\"width\":0.5},\"pattern\":{\"fillmode\":\"overlay\",\"size\":10,\"solidity\":0.2}},\"type\":\"barpolar\"}],\"pie\":[{\"automargin\":true,\"type\":\"pie\"}]},\"layout\":{\"autotypenumbers\":\"strict\",\"colorway\":[\"#636efa\",\"#EF553B\",\"#00cc96\",\"#ab63fa\",\"#FFA15A\",\"#19d3f3\",\"#FF6692\",\"#B6E880\",\"#FF97FF\",\"#FECB52\"],\"font\":{\"color\":\"#2a3f5f\"},\"hovermode\":\"closest\",\"hoverlabel\":{\"align\":\"left\"},\"paper_bgcolor\":\"white\",\"plot_bgcolor\":\"#E5ECF6\",\"polar\":{\"bgcolor\":\"#E5ECF6\",\"angularaxis\":{\"gridcolor\":\"white\",\"linecolor\":\"white\",\"ticks\":\"\"},\"radialaxis\":{\"gridcolor\":\"white\",\"linecolor\":\"white\",\"ticks\":\"\"}},\"ternary\":{\"bgcolor\":\"#E5ECF6\",\"aaxis\":{\"gridcolor\":\"white\",\"linecolor\":\"white\",\"ticks\":\"\"},\"baxis\":{\"gridcolor\":\"white\",\"linecolor\":\"white\",\"ticks\":\"\"},\"caxis\":{\"gridcolor\":\"white\",\"linecolor\":\"white\",\"ticks\":\"\"}},\"coloraxis\":{\"colorbar\":{\"outlinewidth\":0,\"ticks\":\"\"}},\"colorscale\":{\"sequential\":[[0.0,\"#0d0887\"],[0.1111111111111111,\"#46039f\"],[0.2222222222222222,\"#7201a8\"],[0.3333333333333333,\"#9c179e\"],[0.4444444444444444,\"#bd3786\"],[0.5555555555555556,\"#d8576b\"],[0.6666666666666666,\"#ed7953\"],[0.7777777777777778,\"#fb9f3a\"],[0.8888888888888888,\"#fdca26\"],[1.0,\"#f0f921\"]],\"sequentialminus\":[[0.0,\"#0d0887\"],[0.1111111111111111,\"#46039f\"],[0.2222222222222222,\"#7201a8\"],[0.3333333333333333,\"#9c179e\"],[0.4444444444444444,\"#bd3786\"],[0.5555555555555556,\"#d8576b\"],[0.6666666666666666,\"#ed7953\"],[0.7777777777777778,\"#fb9f3a\"],[0.8888888888888888,\"#fdca26\"],[1.0,\"#f0f921\"]],\"diverging\":[[0,\"#8e0152\"],[0.1,\"#c51b7d\"],[0.2,\"#de77ae\"],[0.3,\"#f1b6da\"],[0.4,\"#fde0ef\"],[0.5,\"#f7f7f7\"],[0.6,\"#e6f5d0\"],[0.7,\"#b8e186\"],[0.8,\"#7fbc41\"],[0.9,\"#4d9221\"],[1,\"#276419\"]]},\"xaxis\":{\"gridcolor\":\"white\",\"linecolor\":\"white\",\"ticks\":\"\",\"title\":{\"standoff\":15},\"zerolinecolor\":\"white\",\"automargin\":true,\"zerolinewidth\":2},\"yaxis\":{\"gridcolor\":\"white\",\"linecolor\":\"white\",\"ticks\":\"\",\"title\":{\"standoff\":15},\"zerolinecolor\":\"white\",\"automargin\":true,\"zerolinewidth\":2},\"scene\":{\"xaxis\":{\"backgroundcolor\":\"#E5ECF6\",\"gridcolor\":\"white\",\"linecolor\":\"white\",\"showbackground\":true,\"ticks\":\"\",\"zerolinecolor\":\"white\",\"gridwidth\":2},\"yaxis\":{\"backgroundcolor\":\"#E5ECF6\",\"gridcolor\":\"white\",\"linecolor\":\"white\",\"showbackground\":true,\"ticks\":\"\",\"zerolinecolor\":\"white\",\"gridwidth\":2},\"zaxis\":{\"backgroundcolor\":\"#E5ECF6\",\"gridcolor\":\"white\",\"linecolor\":\"white\",\"showbackground\":true,\"ticks\":\"\",\"zerolinecolor\":\"white\",\"gridwidth\":2}},\"shapedefaults\":{\"line\":{\"color\":\"#2a3f5f\"}},\"annotationdefaults\":{\"arrowcolor\":\"#2a3f5f\",\"arrowhead\":0,\"arrowwidth\":1},\"geo\":{\"bgcolor\":\"white\",\"landcolor\":\"#E5ECF6\",\"subunitcolor\":\"white\",\"showland\":true,\"showlakes\":true,\"lakecolor\":\"white\"},\"title\":{\"x\":0.05},\"mapbox\":{\"style\":\"light\"}}},\"title\":{\"text\":\"3D Scatter Plot\"},\"scene\":{\"xaxis\":{\"title\":{\"text\":\"X\"}},\"yaxis\":{\"title\":{\"text\":\"Y\"}},\"zaxis\":{\"title\":{\"text\":\"Z\"}}}},                        {\"responsive\": true}                    ).then(function(){\n",
              "                            \n",
              "var gd = document.getElementById('44bbe3d8-0e2b-4a89-8e84-a2fcb3ab131f');\n",
              "var x = new MutationObserver(function (mutations, observer) {{\n",
              "        var display = window.getComputedStyle(gd).display;\n",
              "        if (!display || display === 'none') {{\n",
              "            console.log([gd, 'removed!']);\n",
              "            Plotly.purge(gd);\n",
              "            observer.disconnect();\n",
              "        }}\n",
              "}});\n",
              "\n",
              "// Listen for the removal of the full notebook cells\n",
              "var notebookContainer = gd.closest('#notebook-container');\n",
              "if (notebookContainer) {{\n",
              "    x.observe(notebookContainer, {childList: true});\n",
              "}}\n",
              "\n",
              "// Listen for the clearing of the current output cell\n",
              "var outputEl = gd.closest('.output');\n",
              "if (outputEl) {{\n",
              "    x.observe(outputEl, {childList: true});\n",
              "}}\n",
              "\n",
              "                        })                };                            </script>        </div>\n",
              "</body>\n",
              "</html>"
            ]
          },
          "metadata": {}
        }
      ]
    },
    {
      "cell_type": "code",
      "source": [],
      "metadata": {
        "id": "dU3qlwNARQDQ"
      },
      "execution_count": null,
      "outputs": []
    }
  ]
}